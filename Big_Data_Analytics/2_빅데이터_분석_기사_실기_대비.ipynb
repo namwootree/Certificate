{
  "nbformat": 4,
  "nbformat_minor": 0,
  "metadata": {
    "colab": {
      "name": "2_빅데이터_분석_기사_실기_대비.ipynb",
      "provenance": [],
      "authorship_tag": "ABX9TyO4gwl/wxL89/Qb0D8Eapo2",
      "include_colab_link": true
    },
    "kernelspec": {
      "name": "python3",
      "display_name": "Python 3"
    },
    "language_info": {
      "name": "python"
    }
  },
  "cells": [
    {
      "cell_type": "markdown",
      "metadata": {
        "id": "view-in-github",
        "colab_type": "text"
      },
      "source": [
        "<a href=\"https://colab.research.google.com/github/namwootree/Certificate/blob/main/Big_Data_Analytics/2_%EB%B9%85%EB%8D%B0%EC%9D%B4%ED%84%B0_%EB%B6%84%EC%84%9D_%EA%B8%B0%EC%82%AC_%EC%8B%A4%EA%B8%B0_%EB%8C%80%EB%B9%84.ipynb\" target=\"_parent\"><img src=\"https://colab.research.google.com/assets/colab-badge.svg\" alt=\"Open In Colab\"/></a>"
      ]
    },
    {
      "cell_type": "code",
      "execution_count": null,
      "metadata": {
        "id": "0T2Gula8woU2"
      },
      "outputs": [],
      "source": [
        "import pandas as pd\n",
        "import numpy as np"
      ]
    },
    {
      "cell_type": "code",
      "source": [
        "df1 = pd.read_csv('/content/x_train_01.csv', encoding='cp949')"
      ],
      "metadata": {
        "id": "xuyfD88wx1Rd"
      },
      "execution_count": null,
      "outputs": []
    },
    {
      "cell_type": "markdown",
      "source": [
        "# 1 유형"
      ],
      "metadata": {
        "id": "MhjLBI3Fw6dF"
      }
    },
    {
      "cell_type": "markdown",
      "source": [
        "주소-구에 기흥구에 사는 고객들의 총구매금액에 대해 MinMaxScaling을 실시 후, 0.7이상인 데이터의 개수를 구하시오"
      ],
      "metadata": {
        "id": "LtGDi5m6w9TR"
      }
    },
    {
      "cell_type": "code",
      "source": [
        "# print(df1.shape) # row 4889 col 10\n",
        "# print(df1.columns)\n",
        "# print(df1.info()) \n",
        "# print(df1.isnull().sum()) # 연령 결측치\n",
        "\n",
        "cond1 = (df1['주소-구']=='기흥구')\n",
        "df1_gh = df1.loc[cond1]\n",
        "\n",
        "# print(df1_gh.shape) # 314\n",
        "\n",
        "from sklearn.preprocessing import MinMaxScaler\n",
        "\n",
        "scaler = MinMaxScaler()\n",
        "\n",
        "scaler.fit(df1_gh[['총구매금액']])\n",
        "result_scale = scaler.transform(df1_gh[['총구매금액']])\n",
        "\n",
        "result_data = pd.DataFrame(result_scale)\n",
        "# print(result_data.shape)\n",
        "\n",
        "cond2 = (result_data[0]>=0.7)\n",
        "\n",
        "print(result_data.loc[cond2].shape) # 2"
      ],
      "metadata": {
        "colab": {
          "base_uri": "https://localhost:8080/"
        },
        "id": "et9Kw08_w4KO",
        "outputId": "3b6063c4-eaec-4a1d-c606-60548fbb3e31"
      },
      "execution_count": null,
      "outputs": [
        {
          "output_type": "stream",
          "name": "stdout",
          "text": [
            "(2, 1)\n"
          ]
        }
      ]
    },
    {
      "cell_type": "markdown",
      "source": [
        "총구매금액이 상위 10%에 해당하는 데이터를 추출하여, 총구매수량의 합 계산"
      ],
      "metadata": {
        "id": "jhg4FiozxRu9"
      }
    },
    {
      "cell_type": "code",
      "source": [
        "# print(df1['총구매금액'].quantile(0.9)) # 2508685.999\n",
        "\n",
        "cond1 = (df1['총구매금액']>=df1['총구매금액'].quantile(0.9))\n",
        "\n",
        "df1_top = df1.loc[cond1]\n",
        "\n",
        "# print(df1_top.shape) # 489\n",
        "\n",
        "print(df1_top['총구매수량'].sum()) # 247386.99"
      ],
      "metadata": {
        "colab": {
          "base_uri": "https://localhost:8080/"
        },
        "id": "ws2M52TFxahM",
        "outputId": "e26a7cc5-de20-4e98-ba85-00bc81f59df7"
      },
      "execution_count": null,
      "outputs": [
        {
          "output_type": "stream",
          "name": "stdout",
          "text": [
            "247386.99\n"
          ]
        }
      ]
    },
    {
      "cell_type": "markdown",
      "source": [
        "배송서비스신청엽에서 신청한 데이터 중 남성 데이터의 총구매수량의 표준편차와 여성 데이터의 총구매수량의 표준편차 차이를 구하시오"
      ],
      "metadata": {
        "id": "FEuHGM1jxazr"
      }
    },
    {
      "cell_type": "code",
      "source": [
        "cond1 = (df1['배송서비스신청여부'] == '신청')\n",
        "\n",
        "df1_apply = df1.loc[cond1]\n",
        "\n",
        "# print(df1_apply.shape) # 379\n",
        "\n",
        "# print(df1_apply['성별'].value_counts()) 남 / 여\n",
        "\n",
        "cond2 = (df1_apply['성별']=='남')\n",
        "\n",
        "df1_apply_man = df1_apply.loc[cond2]\n",
        "df1_apply_woman = df1_apply.loc[~cond2]\n",
        "\n",
        "print(df1_apply_man['총구매수량'].std() - df1_apply_woman['총구매수량'].std()) # 35.296"
      ],
      "metadata": {
        "id": "g0-eJnR-xbhb",
        "colab": {
          "base_uri": "https://localhost:8080/"
        },
        "outputId": "ec736952-f15a-4ad3-a09a-201bce391fd3"
      },
      "execution_count": null,
      "outputs": [
        {
          "output_type": "stream",
          "name": "stdout",
          "text": [
            "35.296516818921134\n"
          ]
        }
      ]
    },
    {
      "cell_type": "code",
      "source": [
        "cond1 = (df1['배송서비스신청여부'] == '신청')\n",
        "\n",
        "df1_apply = df1.loc[cond1]\n",
        "\n",
        "# print(df1_apply.shape) # 379\n",
        "\n",
        "# print(df1_apply['성별'].value_counts()) 남 / 여\n",
        "\n",
        "# print(df1_apply.pivot_table(index='성별', values='총구매수량', aggfunc='std'))\n",
        "\n",
        "print(124.438241 - 89.141724)"
      ],
      "metadata": {
        "colab": {
          "base_uri": "https://localhost:8080/"
        },
        "id": "_DsAUJEsYScQ",
        "outputId": "3048d11f-3e1b-4975-ed5f-878ebbf0fca6"
      },
      "execution_count": null,
      "outputs": [
        {
          "output_type": "stream",
          "name": "stdout",
          "text": [
            "35.29651700000001\n"
          ]
        }
      ]
    },
    {
      "cell_type": "markdown",
      "source": [
        "# 2 유형"
      ],
      "metadata": {
        "id": "vMriLoR3w8Mj"
      }
    },
    {
      "cell_type": "markdown",
      "source": [
        "Gold_member를 분류하는 학습 알고리즘을 구상하고 예측값을 계산하시오"
      ],
      "metadata": {
        "id": "hvgxfA7XxnPK"
      }
    },
    {
      "cell_type": "code",
      "source": [
        "x_train = pd.read_csv('/content/x_train_01.csv', encoding='cp949')\n",
        "y_train = pd.read_csv('/content/y_train_01.csv', encoding='cp949')\n",
        "\n",
        "x_test = pd.read_csv('/content/x_test_01.csv', encoding='cp949')"
      ],
      "metadata": {
        "id": "tEf6UiGcw87H"
      },
      "execution_count": null,
      "outputs": []
    },
    {
      "cell_type": "code",
      "source": [
        "print(x_train.shape) # 4889 / 10\n",
        "print(x_train.columns)\n",
        "print(x_train.info()) # 연령 결측치"
      ],
      "metadata": {
        "colab": {
          "base_uri": "https://localhost:8080/"
        },
        "id": "o6mC6wrGZbRT",
        "outputId": "14bedd63-a807-4ff7-fc78-30fb284ac6aa"
      },
      "execution_count": null,
      "outputs": [
        {
          "output_type": "stream",
          "name": "stdout",
          "text": [
            "(4889, 10)\n",
            "Index(['Unnamed: 0', '회원번호', '주소-구', '성별', '연령', '총구매금액', '총구매수량',\n",
            "       '1회방문시구매금액(평균)', '배송서비스신청여부', '모바일알람여부'],\n",
            "      dtype='object')\n",
            "<class 'pandas.core.frame.DataFrame'>\n",
            "RangeIndex: 4889 entries, 0 to 4888\n",
            "Data columns (total 10 columns):\n",
            " #   Column         Non-Null Count  Dtype  \n",
            "---  ------         --------------  -----  \n",
            " 0   Unnamed: 0     4889 non-null   int64  \n",
            " 1   회원번호           4889 non-null   int64  \n",
            " 2   주소-구           4889 non-null   object \n",
            " 3   성별             4889 non-null   object \n",
            " 4   연령             4864 non-null   float64\n",
            " 5   총구매금액          4889 non-null   int64  \n",
            " 6   총구매수량          4889 non-null   float64\n",
            " 7   1회방문시구매금액(평균)  4889 non-null   int64  \n",
            " 8   배송서비스신청여부      4889 non-null   object \n",
            " 9   모바일알람여부        4889 non-null   object \n",
            "dtypes: float64(2), int64(4), object(4)\n",
            "memory usage: 382.1+ KB\n",
            "None\n"
          ]
        }
      ]
    },
    {
      "cell_type": "code",
      "source": [
        "print(y_train.shape) # 4889 / 3\n",
        "print(y_train.columns)  \n",
        "print(y_train.info()) # 회원번호 공통 / Gold member"
      ],
      "metadata": {
        "colab": {
          "base_uri": "https://localhost:8080/"
        },
        "id": "8tXcCzOJZnCM",
        "outputId": "aa037187-a4f0-459a-a80b-75e322a08416"
      },
      "execution_count": null,
      "outputs": [
        {
          "output_type": "stream",
          "name": "stdout",
          "text": [
            "(4889, 3)\n",
            "Index(['Unnamed: 0', '회원번호', 'Gold_member'], dtype='object')\n",
            "<class 'pandas.core.frame.DataFrame'>\n",
            "RangeIndex: 4889 entries, 0 to 4888\n",
            "Data columns (total 3 columns):\n",
            " #   Column       Non-Null Count  Dtype \n",
            "---  ------       --------------  ----- \n",
            " 0   Unnamed: 0   4889 non-null   int64 \n",
            " 1   회원번호         4889 non-null   int64 \n",
            " 2   Gold_member  4889 non-null   object\n",
            "dtypes: int64(2), object(1)\n",
            "memory usage: 114.7+ KB\n",
            "None\n"
          ]
        }
      ]
    },
    {
      "cell_type": "code",
      "source": [
        "print(x_test.shape) # 1630\n",
        "print(x_test.columns)\n",
        "print(x_test.info())"
      ],
      "metadata": {
        "colab": {
          "base_uri": "https://localhost:8080/"
        },
        "id": "LWvrT7gFZqFd",
        "outputId": "de6d4666-a47d-4180-e260-398e84456712"
      },
      "execution_count": null,
      "outputs": [
        {
          "output_type": "stream",
          "name": "stdout",
          "text": [
            "(1630, 10)\n",
            "Index(['Unnamed: 0', '회원번호', '주소-구', '성별', '연령', '총구매금액', '총구매수량',\n",
            "       '1회방문시구매금액(평균)', '배송서비스신청여부', '모바일알람여부'],\n",
            "      dtype='object')\n",
            "<class 'pandas.core.frame.DataFrame'>\n",
            "RangeIndex: 1630 entries, 0 to 1629\n",
            "Data columns (total 10 columns):\n",
            " #   Column         Non-Null Count  Dtype  \n",
            "---  ------         --------------  -----  \n",
            " 0   Unnamed: 0     1630 non-null   int64  \n",
            " 1   회원번호           1630 non-null   int64  \n",
            " 2   주소-구           1630 non-null   object \n",
            " 3   성별             1630 non-null   object \n",
            " 4   연령             1623 non-null   float64\n",
            " 5   총구매금액          1630 non-null   int64  \n",
            " 6   총구매수량          1630 non-null   float64\n",
            " 7   1회방문시구매금액(평균)  1630 non-null   int64  \n",
            " 8   배송서비스신청여부      1630 non-null   object \n",
            " 9   모바일알람여부        1630 non-null   object \n",
            "dtypes: float64(2), int64(4), object(4)\n",
            "memory usage: 127.5+ KB\n",
            "None\n"
          ]
        }
      ]
    },
    {
      "cell_type": "code",
      "source": [
        "# x_train - y_train 병합 (merge 회원번호)\n",
        "# x / y 분할 (Gold member 문자 -> 숫자)\n",
        "# x dummy\n",
        "# 파이프라인 구축 (결측치 + 학습)\n",
        "# 교차 검증 + 매개변수 튜닝\n",
        "# 학습 실시 및 검증 (학습 데이터 검증)\n",
        "# 검증 데이터 예측 -> 파일로 저장"
      ],
      "metadata": {
        "id": "GM8gCQ-hZs5v"
      },
      "execution_count": null,
      "outputs": []
    },
    {
      "cell_type": "code",
      "source": [
        "# x_train - y_train 병합 (merge 회원번호)\n",
        "df1 = pd.merge(x_train, y_train, on='회원번호', how='left')\n",
        "# print(df1.shape) # 4889 / 12\n",
        "\n",
        "# x / y 분할 (Gold member 문자 -> 숫자)\n",
        "# print(df1['Gold_member'].value_counts()) # normal = 0 / vip = 1\n",
        "\n",
        "cond1 = (df1['Gold_member']=='VIP')\n",
        "\n",
        "df1.loc[cond1, 'Target'] = 1\n",
        "df1.loc[~cond1, 'Target'] = 0\n",
        "\n",
        "# print(df1['Target'].value_counts())\n",
        "\n",
        "y_train_new = df1['Target']\n",
        "x_train_new = df1.drop(columns=['Unnamed: 0_x', '회원번호', 'Unnamed: 0_y',\n",
        "                                'Gold_member', 'Target'])\n",
        "\n",
        "# x dummy\n",
        "x_dummy = pd.get_dummies(x_train_new)"
      ],
      "metadata": {
        "id": "y_s98485aaqt"
      },
      "execution_count": null,
      "outputs": []
    },
    {
      "cell_type": "code",
      "source": [
        "from sklearn.pipeline import Pipeline\n",
        "from sklearn.impute import KNNImputer\n",
        "from sklearn.ensemble import RandomForestClassifier\n",
        "from sklearn.model_selection import GridSearchCV\n",
        "from sklearn.metrics import classification_report"
      ],
      "metadata": {
        "id": "9vTABB2kcKNz"
      },
      "execution_count": null,
      "outputs": []
    },
    {
      "cell_type": "code",
      "source": [
        "pipe_list = [('impute', KNNImputer()),\n",
        "             ('model', RandomForestClassifier())]\n",
        "\n",
        "pipe_model = Pipeline(pipe_list)\n",
        "print(pipe_model)"
      ],
      "metadata": {
        "colab": {
          "base_uri": "https://localhost:8080/"
        },
        "id": "OzicB67easwc",
        "outputId": "c303d75f-17c6-4389-cefe-14fdcbd031a7"
      },
      "execution_count": null,
      "outputs": [
        {
          "output_type": "stream",
          "name": "stdout",
          "text": [
            "Pipeline(steps=[('impute', KNNImputer()), ('model', RandomForestClassifier())])\n"
          ]
        }
      ]
    },
    {
      "cell_type": "code",
      "source": [
        "param_grid = {\n",
        "    'model__min_samples_split':range(5, 10),\n",
        "    'model__n_estimators':[100, 150, 200],\n",
        "    'model__class_weight':[None, 'balanced']\n",
        "}\n",
        "\n",
        "grid_model = GridSearchCV(pipe_model, param_grid=param_grid,\n",
        "                          cv=3, n_jobs=-1, scoring='f1')\n",
        "\n",
        "grid_model.fit(x_dummy, y_train_new)"
      ],
      "metadata": {
        "colab": {
          "base_uri": "https://localhost:8080/"
        },
        "id": "wKozQd0vbveF",
        "outputId": "f5a3bcf2-e8ad-4601-eca4-203bcb5f6e76"
      },
      "execution_count": null,
      "outputs": [
        {
          "output_type": "execute_result",
          "data": {
            "text/plain": [
              "GridSearchCV(cv=3,\n",
              "             estimator=Pipeline(steps=[('impute', KNNImputer()),\n",
              "                                       ('model', RandomForestClassifier())]),\n",
              "             n_jobs=-1,\n",
              "             param_grid={'model__class_weight': [None, 'balanced'],\n",
              "                         'model__min_samples_split': range(5, 10),\n",
              "                         'model__n_estimators': [100, 150, 200]},\n",
              "             scoring='f1')"
            ]
          },
          "metadata": {},
          "execution_count": 35
        }
      ]
    },
    {
      "cell_type": "code",
      "source": [
        "best_model = grid_model.best_estimator_\n",
        "print(best_model)"
      ],
      "metadata": {
        "colab": {
          "base_uri": "https://localhost:8080/"
        },
        "id": "X0ORoxWddy6_",
        "outputId": "856c7e1b-8d6d-4a86-d07b-cb1fe34c43c4"
      },
      "execution_count": null,
      "outputs": [
        {
          "output_type": "stream",
          "name": "stdout",
          "text": [
            "Pipeline(steps=[('impute', KNNImputer()),\n",
            "                ('model',\n",
            "                 RandomForestClassifier(min_samples_split=5,\n",
            "                                        n_estimators=150))])\n"
          ]
        }
      ]
    },
    {
      "cell_type": "code",
      "source": [
        "y_train_pred = best_model.predict(x_dummy)\n",
        "print(classification_report(y_train_new, y_train_pred))"
      ],
      "metadata": {
        "colab": {
          "base_uri": "https://localhost:8080/"
        },
        "id": "toGox4ibedH2",
        "outputId": "cc7ab4df-f9ff-4719-93bc-1e7b8e8ccd12"
      },
      "execution_count": null,
      "outputs": [
        {
          "output_type": "stream",
          "name": "stdout",
          "text": [
            "              precision    recall  f1-score   support\n",
            "\n",
            "         0.0       1.00      1.00      1.00      3419\n",
            "         1.0       1.00      1.00      1.00      1470\n",
            "\n",
            "    accuracy                           1.00      4889\n",
            "   macro avg       1.00      1.00      1.00      4889\n",
            "weighted avg       1.00      1.00      1.00      4889\n",
            "\n"
          ]
        }
      ]
    },
    {
      "cell_type": "code",
      "source": [
        "x_test_new = x_test.drop(columns=['Unnamed: 0', '회원번호'])\n",
        "\n",
        "x_test_dummy = pd.get_dummies(x_test_new)\n",
        "\n",
        "y_train_pred = best_model.predict(x_test_dummy)\n",
        "\n",
        "result = pd.DataFrame(y_train_pred)\n",
        "result.to_csv('20220619.csv')"
      ],
      "metadata": {
        "id": "sRISr6i-eyXw"
      },
      "execution_count": null,
      "outputs": []
    }
  ]
}