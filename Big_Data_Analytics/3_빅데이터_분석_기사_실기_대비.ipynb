{
  "nbformat": 4,
  "nbformat_minor": 0,
  "metadata": {
    "colab": {
      "name": "3_빅데이터_분석_기사_실기_대비.ipynb",
      "provenance": [],
      "collapsed_sections": [],
      "authorship_tag": "ABX9TyM8K2RoN1SEXNVatRDOfjBZ",
      "include_colab_link": true
    },
    "kernelspec": {
      "name": "python3",
      "display_name": "Python 3"
    },
    "language_info": {
      "name": "python"
    }
  },
  "cells": [
    {
      "cell_type": "markdown",
      "metadata": {
        "id": "view-in-github",
        "colab_type": "text"
      },
      "source": [
        "<a href=\"https://colab.research.google.com/github/namwootree/Certificate/blob/main/Big_Data_Analytics/3_%EB%B9%85%EB%8D%B0%EC%9D%B4%ED%84%B0_%EB%B6%84%EC%84%9D_%EA%B8%B0%EC%82%AC_%EC%8B%A4%EA%B8%B0_%EB%8C%80%EB%B9%84.ipynb\" target=\"_parent\"><img src=\"https://colab.research.google.com/assets/colab-badge.svg\" alt=\"Open In Colab\"/></a>"
      ]
    },
    {
      "cell_type": "markdown",
      "source": [
        "# 1 유형"
      ],
      "metadata": {
        "id": "LSo5oCyl0Wcn"
      }
    },
    {
      "cell_type": "markdown",
      "source": [
        "다음은\n",
        "Boston Housing 데이터셋이다 . crim 항목의 상위에서 10 번째 값 즉 , 상위 10 번째 값\n",
        "중에서 가장 작은 값 으로 상위 10 개의 값을 변환하고 age 80 이상인 값에 대하여 crim 평균을\n",
        "구하시오"
      ],
      "metadata": {
        "id": "dHy2Gt8a0TMB"
      }
    },
    {
      "cell_type": "code",
      "source": [
        "import pandas as pd\n",
        "\n",
        "df = pd.read_csv('/content/boston_housing.csv')\n",
        "\n",
        "# print(df.shape) # 560 / 14\n",
        "# print(df.columns)\n",
        "# print(df.info())\n",
        "\n",
        "df_top_10 = df.sort_values(by='crim', ascending=False).head(10)\n",
        "\n",
        "# print(df_top_10.shape) # 10 /14\n",
        "# print(df_top_10['crim'].min()) # 25.9406\n",
        "\n",
        "cond1 = (df['crim']>=df_top_10['crim'].min())\n",
        "\n",
        "df.loc[cond1, 'new_crim'] = df_top_10['crim'].min()\n",
        "df.loc[~cond1, 'new_crim'] = df['crim']\n",
        "\n",
        "cond2 = (df['age']>=80)\n",
        "df1 = df.loc[cond2]\n",
        "print(df1['new_crim'].mean()) # 5.759387"
      ],
      "metadata": {
        "colab": {
          "base_uri": "https://localhost:8080/"
        },
        "id": "sjvPOKU70df3",
        "outputId": "0a8f6b78-917d-4860-b844-80167a94a728"
      },
      "execution_count": 71,
      "outputs": [
        {
          "output_type": "stream",
          "name": "stdout",
          "text": [
            "5.759386625\n"
          ]
        }
      ]
    },
    {
      "cell_type": "markdown",
      "source": [
        "주어진\n",
        "데이터의 첫 번째 행부터 순서대로 80% 까지의 데이터를 훈련 데이터로 추출 후\n",
        "total_bedrooms ’ 변수의 결측값 ( 을 total_bedrooms ’ 변수의 중앙값으로 대체하고 대체 전의\n",
        "total_bedrooms 변수 표준편차 값의 차이의 절댓값을 구하시오"
      ],
      "metadata": {
        "id": "hLiaHCCH69IR"
      }
    },
    {
      "cell_type": "code",
      "source": [
        "import pandas as pd\n",
        "\n",
        "df = pd.read_csv('/content/california_housing.csv')\n",
        "\n",
        "# print(df.shape) # 20640 / 10\n",
        "# print(df.columns)\n",
        "# print(df.info()) # total_bedrooms 결측치 존재\n",
        "\n",
        "df_80 = df.iloc[:int(20640 * 0.8)]\n",
        "\n",
        "# print(df_80.shape) # 16512 / 10\n",
        "\n",
        "std1 = df_80['total_bedrooms'].std()\n",
        "\n",
        "df_80['total_bedrooms'].fillna(df_80['total_bedrooms'].median(), inplace=True)\n",
        "\n",
        "# print(df_80.info())\n",
        "\n",
        "std2 = df_80['total_bedrooms'].std()\n",
        "\n",
        "print(std1-std2) # 1.9751472916456692"
      ],
      "metadata": {
        "colab": {
          "base_uri": "https://localhost:8080/"
        },
        "id": "wBpygCGX3EvF",
        "outputId": "e3b91a5c-f74c-45ac-9310-f2b1d1270463"
      },
      "execution_count": 96,
      "outputs": [
        {
          "output_type": "stream",
          "name": "stdout",
          "text": [
            "1.9751472916456692\n"
          ]
        },
        {
          "output_type": "stream",
          "name": "stderr",
          "text": [
            "/usr/local/lib/python3.7/dist-packages/pandas/core/generic.py:6392: SettingWithCopyWarning: \n",
            "A value is trying to be set on a copy of a slice from a DataFrame\n",
            "\n",
            "See the caveats in the documentation: https://pandas.pydata.org/pandas-docs/stable/user_guide/indexing.html#returning-a-view-versus-a-copy\n",
            "  return self._update_inplace(result)\n"
          ]
        }
      ]
    },
    {
      "cell_type": "markdown",
      "source": [
        "다음은\n",
        "Insurance 데이터셋이다 . charges 항목의 이상값의 합을 구하시오\n",
        "(\n",
        "이상값은 평균에서 1.5 표준편차 이상인 값"
      ],
      "metadata": {
        "id": "tVV5V1KiCYCb"
      }
    },
    {
      "cell_type": "code",
      "source": [
        "import pandas as pd\n",
        "\n",
        "df = pd.read_csv('/content/insurance.csv')\n",
        "\n",
        "# print(df.shape) # 1338 / 7\n",
        "# print(df.columns)\n",
        "# print(df.info())\n",
        "\n",
        "out1 = df['charges'].mean() + (1.5 * df['charges'].std())\n",
        "# print(out1) # 31435.43912018226\n",
        "\n",
        "out2 = df['charges'].mean() - (1.5 * df['charges'].std())\n",
        "# print(out2) # -4894.594589899745\n",
        "\n",
        "cond1 = (df['charges']>=out1)\n",
        "cond2 = (df['charges']<=out2)\n",
        "df1 = df.loc[cond1|cond2]\n",
        "print(df1['charges'].sum()) # 6421430.0206699995"
      ],
      "metadata": {
        "colab": {
          "base_uri": "https://localhost:8080/"
        },
        "id": "XEL_2XGV-o0c",
        "outputId": "2fb4560b-1ed4-47db-a61d-890261b52747"
      },
      "execution_count": 108,
      "outputs": [
        {
          "output_type": "stream",
          "name": "stdout",
          "text": [
            "6421430.0206699995\n"
          ]
        }
      ]
    },
    {
      "cell_type": "markdown",
      "source": [
        "# 2 유형"
      ],
      "metadata": {
        "id": "wZYkUhibE27F"
      }
    },
    {
      "cell_type": "markdown",
      "source": [
        "아래\n",
        "E Commerce Shipping Data 의 train set 을 참조하여 고객이 주문한 물품의 정시 도착\n",
        "여부를 예측하시오 . (ID 와 예측치를 csv 파일로 저장하여 제출하시오"
      ],
      "metadata": {
        "id": "BZoYavPfL_36"
      }
    },
    {
      "cell_type": "code",
      "source": [
        "import pandas as pd\n",
        "\n",
        "x = pd.read_csv('/content/X_train.csv')\n",
        "y = pd.read_csv('/content/y_train.csv')\n",
        "\n",
        "# print(x.shape) # 8799 / 11\n",
        "# print(y.shape) # 8799 / 2\n",
        "\n",
        "# print(x.info())\n",
        "# print(y.info())\n",
        "\n",
        "# print(x.columns)\n",
        "# print(y.columns)\n",
        "\n",
        "x_train = x.drop(columns=['ID', 'Gender'])\n",
        "x_train = pd.get_dummies(x_train)\n",
        "y_train = y.drop(columns='ID')\n",
        "\n",
        "# print(x_train.columns)\n",
        "# print(y_train.columns)\n",
        "\n",
        "from sklearn.pipeline import Pipeline\n",
        "from sklearn.model_selection import GridSearchCV\n",
        "from sklearn.ensemble import RandomForestClassifier\n",
        "from sklearn.metrics import classification_report\n",
        "\n",
        "pipe_list = [('model', RandomForestClassifier())]\n",
        "\n",
        "pipe_model = Pipeline(pipe_list)\n",
        "\n",
        "param_grid = {\n",
        "    'model__min_samples_split':range(5, 7),\n",
        "    'model__n_estimators':[100, 150, 200],\n",
        "    'model__class_weight':[None, 'balanced']\n",
        "}\n",
        "\n",
        "grid_model = GridSearchCV(pipe_model, param_grid=param_grid,\n",
        "                          cv=3, n_jobs=-1, scoring='f1')\n",
        "\n",
        "grid_model.fit(x_train, y_train)"
      ],
      "metadata": {
        "colab": {
          "base_uri": "https://localhost:8080/"
        },
        "id": "d3JZ0lYpDrlB",
        "outputId": "43ee55df-aa30-46f4-e178-6a6cec43e1a8"
      },
      "execution_count": 137,
      "outputs": [
        {
          "output_type": "stream",
          "name": "stderr",
          "text": [
            "/usr/local/lib/python3.7/dist-packages/sklearn/pipeline.py:394: DataConversionWarning: A column-vector y was passed when a 1d array was expected. Please change the shape of y to (n_samples,), for example using ravel().\n",
            "  self._final_estimator.fit(Xt, y, **fit_params_last_step)\n"
          ]
        },
        {
          "output_type": "execute_result",
          "data": {
            "text/plain": [
              "GridSearchCV(cv=3,\n",
              "             estimator=Pipeline(steps=[('model', RandomForestClassifier())]),\n",
              "             n_jobs=-1,\n",
              "             param_grid={'model__class_weight': [None, 'balanced'],\n",
              "                         'model__min_samples_split': range(5, 7),\n",
              "                         'model__n_estimators': [100, 150, 200]},\n",
              "             scoring='f1')"
            ]
          },
          "metadata": {},
          "execution_count": 137
        }
      ]
    },
    {
      "cell_type": "code",
      "source": [
        "best_model = grid_model.best_estimator_\n",
        "print(best_model)"
      ],
      "metadata": {
        "colab": {
          "base_uri": "https://localhost:8080/"
        },
        "id": "vkae3bnaG6Q5",
        "outputId": "a71bca58-f36a-40df-b047-23f23fdcd898"
      },
      "execution_count": 138,
      "outputs": [
        {
          "output_type": "stream",
          "name": "stdout",
          "text": [
            "Pipeline(steps=[('model',\n",
            "                 RandomForestClassifier(min_samples_split=5,\n",
            "                                        n_estimators=200))])\n"
          ]
        }
      ]
    },
    {
      "cell_type": "code",
      "source": [
        "pred_y_train = best_model.predict(x_train)\n",
        "print(classification_report(y_train, pred_y_train))"
      ],
      "metadata": {
        "colab": {
          "base_uri": "https://localhost:8080/"
        },
        "id": "ibAyH5HWJbsY",
        "outputId": "2f2b8154-600a-4f7f-b226-1926f24f416f"
      },
      "execution_count": 139,
      "outputs": [
        {
          "output_type": "stream",
          "name": "stdout",
          "text": [
            "              precision    recall  f1-score   support\n",
            "\n",
            "           0       1.00      1.00      1.00      3548\n",
            "           1       1.00      1.00      1.00      5251\n",
            "\n",
            "    accuracy                           1.00      8799\n",
            "   macro avg       1.00      1.00      1.00      8799\n",
            "weighted avg       1.00      1.00      1.00      8799\n",
            "\n"
          ]
        }
      ]
    },
    {
      "cell_type": "code",
      "source": [
        "x_test = pd.read_csv('/content/X_test.csv')\n",
        "# print(x.shape) # 8799 / 11\n",
        "\n",
        "list_id = list(x_test['ID'])\n",
        "\n",
        "x_test = x_test.drop(columns=['ID', 'Gender'])\n",
        "x_test = pd.get_dummies(x_test)\n",
        "\n",
        "pred_y_test = best_model.predict(x_test)\n",
        "\n",
        "list_reached = list(pred_y_test)\n",
        "\n",
        "result_dict = {\n",
        "    'ID':list_id,\n",
        "    'Reached.on.Time_Y.N':list_reached\n",
        "    }\n",
        "\n",
        "result_df = pd.DataFrame(result_dict)\n",
        "\n",
        "result_df.to_csv('20220624.csv', index=False)"
      ],
      "metadata": {
        "id": "uXxRiQNqKURs"
      },
      "execution_count": 144,
      "outputs": []
    }
  ]
}