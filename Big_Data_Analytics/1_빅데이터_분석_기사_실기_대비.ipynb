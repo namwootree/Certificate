{
  "nbformat": 4,
  "nbformat_minor": 0,
  "metadata": {
    "colab": {
      "name": "1_빅데이터_분석_기사_실기_대비.ipynb",
      "provenance": [],
      "authorship_tag": "ABX9TyOi1mbCG/EWSRqpvnba0Uhm",
      "include_colab_link": true
    },
    "kernelspec": {
      "name": "python3",
      "display_name": "Python 3"
    },
    "language_info": {
      "name": "python"
    }
  },
  "cells": [
    {
      "cell_type": "markdown",
      "metadata": {
        "id": "view-in-github",
        "colab_type": "text"
      },
      "source": [
        "<a href=\"https://colab.research.google.com/github/namwootree/Certificate/blob/main/Big_Data_Analytics/1_%EB%B9%85%EB%8D%B0%EC%9D%B4%ED%84%B0_%EB%B6%84%EC%84%9D_%EA%B8%B0%EC%82%AC_%EC%8B%A4%EA%B8%B0_%EB%8C%80%EB%B9%84.ipynb\" target=\"_parent\"><img src=\"https://colab.research.google.com/assets/colab-badge.svg\" alt=\"Open In Colab\"/></a>"
      ]
    },
    {
      "cell_type": "markdown",
      "source": [
        "# 1 유형"
      ],
      "metadata": {
        "id": "Y9uUU5mVe9FO"
      }
    },
    {
      "cell_type": "code",
      "execution_count": 1,
      "metadata": {
        "id": "QgDEMGc0Qk_f"
      },
      "outputs": [],
      "source": [
        "import pandas as pd\n",
        "import numpy as np"
      ]
    },
    {
      "cell_type": "code",
      "source": [
        "df1 = pd.read_excel('/content/빅데이터분석기사_실기_데이터.xlsx')"
      ],
      "metadata": {
        "id": "EXRPT2T8Q7NW"
      },
      "execution_count": 75,
      "outputs": []
    },
    {
      "cell_type": "code",
      "source": [
        "print(df1.shape) # row 36883 column 14"
      ],
      "metadata": {
        "colab": {
          "base_uri": "https://localhost:8080/"
        },
        "id": "dmSvgnINQ_wi",
        "outputId": "bc7b91ac-64e9-4ae1-fc3b-6f346d8d6a5c"
      },
      "execution_count": 69,
      "outputs": [
        {
          "output_type": "stream",
          "name": "stdout",
          "text": [
            "(36833, 14)\n"
          ]
        }
      ]
    },
    {
      "cell_type": "code",
      "source": [
        "print(df1.columns)"
      ],
      "metadata": {
        "colab": {
          "base_uri": "https://localhost:8080/"
        },
        "id": "a8U9_csPRBfK",
        "outputId": "bcffc314-1786-49e4-c757-66fb80a43c52"
      },
      "execution_count": 70,
      "outputs": [
        {
          "output_type": "stream",
          "name": "stdout",
          "text": [
            "Index(['날짜', 'SKU ID', 'SKU 명', '바코드', '발주가능상태', '입고수량', '쿠팡출고수량', '쿠팡현재재고수량',\n",
            "       '자재번호', '자재명', '카테고리', '입수', '출고수량', '재고수량'],\n",
            "      dtype='object')\n"
          ]
        }
      ]
    },
    {
      "cell_type": "code",
      "source": [
        "print(df1.info())"
      ],
      "metadata": {
        "colab": {
          "base_uri": "https://localhost:8080/"
        },
        "id": "f1UogQeeRL1x",
        "outputId": "b62eb2fd-aeb3-46f4-944e-13cf83ceac83"
      },
      "execution_count": 71,
      "outputs": [
        {
          "output_type": "stream",
          "name": "stdout",
          "text": [
            "<class 'pandas.core.frame.DataFrame'>\n",
            "RangeIndex: 36833 entries, 0 to 36832\n",
            "Data columns (total 14 columns):\n",
            " #   Column    Non-Null Count  Dtype  \n",
            "---  ------    --------------  -----  \n",
            " 0   날짜        36833 non-null  object \n",
            " 1   SKU ID    36833 non-null  int64  \n",
            " 2   SKU 명     36833 non-null  object \n",
            " 3   바코드       36833 non-null  object \n",
            " 4   발주가능상태    36833 non-null  object \n",
            " 5   입고수량      36833 non-null  int64  \n",
            " 6   쿠팡출고수량    36833 non-null  int64  \n",
            " 7   쿠팡현재재고수량  36833 non-null  int64  \n",
            " 8   자재번호      36833 non-null  int64  \n",
            " 9   자재명       36833 non-null  object \n",
            " 10  카테고리      36833 non-null  object \n",
            " 11  입수        36833 non-null  int64  \n",
            " 12  출고수량      36833 non-null  float64\n",
            " 13  재고수량      36833 non-null  float64\n",
            "dtypes: float64(2), int64(6), object(6)\n",
            "memory usage: 3.9+ MB\n",
            "None\n"
          ]
        }
      ]
    },
    {
      "cell_type": "markdown",
      "source": [
        "출고수량 항목에 데이터에서 출고수향이 10개 이상인 데이터를 추출하여 재고수량의 평균을 구하시오"
      ],
      "metadata": {
        "id": "TDMebzCWRdNE"
      }
    },
    {
      "cell_type": "code",
      "source": [
        "cond1 = (df1['출고수량']>=10)\n",
        "\n",
        "df2 = df1.loc[cond1]\n",
        "\n",
        "# print(df2.shape) # 출고수량이 10개 이상인 데이터 개수 : 6276\n",
        "\n",
        "print(df2['재고수량'].mean()) # 144.994"
      ],
      "metadata": {
        "colab": {
          "base_uri": "https://localhost:8080/"
        },
        "id": "Cl6nPxRKRR-B",
        "outputId": "0a48f98b-8dac-416f-81c9-98e4ff112ada"
      },
      "execution_count": 72,
      "outputs": [
        {
          "output_type": "stream",
          "name": "stdout",
          "text": [
            "144.99403119936906\n"
          ]
        }
      ]
    },
    {
      "cell_type": "markdown",
      "source": [
        "재고수량 데이터를 standard scaling을 실시하여 0.5이상의 데이터의 개수를 구하라"
      ],
      "metadata": {
        "id": "hpxIXRNLSXm7"
      }
    },
    {
      "cell_type": "code",
      "source": [
        "# standard scaling : 평균 0 표준편차 1\n",
        "from sklearn.preprocessing import StandardScaler\n",
        "from sklearn.preprocessing import MinMaxScaler\n",
        "from sklearn.preprocessing import RobustScaler\n",
        "\n",
        "scaler = StandardScaler()\n",
        "# print(scaler)\n",
        "\n",
        "scaler.fit(df1[['재고수량']])\n",
        "result = scaler.transform(df1[['재고수량']])\n",
        "df_result = pd.DataFrame(result)\n",
        "\n",
        "# print(df_result.describe()) # mean 0 std 1\n",
        "# print(df_result.shape) # row 36883 col 1\n",
        "\n",
        "cond1 = (df_result[0]>0.5)\n",
        "\n",
        "df_result2 = df_result.loc[cond1]\n",
        "\n",
        "print(df_result2.shape) # 0.5 이상인 데이터 개수 1791"
      ],
      "metadata": {
        "colab": {
          "base_uri": "https://localhost:8080/"
        },
        "id": "csYoQywqRttY",
        "outputId": "fd9abae5-0041-4061-b709-6165456e57c9"
      },
      "execution_count": 73,
      "outputs": [
        {
          "output_type": "stream",
          "name": "stdout",
          "text": [
            "(1791, 1)\n"
          ]
        }
      ]
    },
    {
      "cell_type": "markdown",
      "source": [
        "입고수량 데이터에서 가장 큰 상위 10개 데이터를 가장 작은 최소값으로 변환한 뒤, 평균을 계산"
      ],
      "metadata": {
        "id": "j1v0A52kUqHX"
      }
    },
    {
      "cell_type": "code",
      "source": [
        "df1_top_10 = df1.sort_values(by='입고수량', ascending=False).head(10)\n",
        "\n",
        "# print(df1_top_10.shape)\n",
        "# print(df1_top_10['입고수량'].describe()) # min : 7287.000000\n",
        "\n",
        "cond1 = (df1['입고수량']>=df1_top_10['입고수량'].min())\n",
        "\n",
        "df1.loc[cond1, '입고수량(clean)'] = df1['입고수량'].min()\n",
        "df1.loc[~cond1, '입고수량(clean)'] = df1['입고수량']\n",
        "\n",
        "# print(df1[['입고수량', '입고수량(clean)']].describe())\n",
        "\n",
        "print(df1['입고수량(clean)'].mean()) # 53.594"
      ],
      "metadata": {
        "colab": {
          "base_uri": "https://localhost:8080/"
        },
        "id": "NnQIQWmMS4JK",
        "outputId": "9a3b952c-9b45-4ac1-d2d8-374b3be2e6be"
      },
      "execution_count": 78,
      "outputs": [
        {
          "output_type": "stream",
          "name": "stdout",
          "text": [
            "53.59441261911873\n"
          ]
        }
      ]
    },
    {
      "cell_type": "markdown",
      "source": [
        "데이터에서 학습 데이터로 70%를 추출하여 출고수량 데이터의 표준편차와 검증 데이터의 출고수량 표준편차 차이 계산 (random_state=1234)\n"
      ],
      "metadata": {
        "id": "FzCVaMz1Yt0M"
      }
    },
    {
      "cell_type": "code",
      "source": [
        "from sklearn.model_selection import train_test_split\n",
        "\n",
        "df_train, df_test = train_test_split(df1, test_size=0.3, random_state=1234)\n",
        "\n",
        "# print(df_train.shape) # 25783\n",
        "# print(df_test.shape) # 11050\n",
        "\n",
        "print(df_train['출고수량'].std() - df_test['출고수량'].std()) # -0.361"
      ],
      "metadata": {
        "colab": {
          "base_uri": "https://localhost:8080/"
        },
        "id": "tnmBOAM8VErZ",
        "outputId": "8580d8c7-9541-4cd7-e58d-ab495a678fcb"
      },
      "execution_count": 81,
      "outputs": [
        {
          "output_type": "stream",
          "name": "stdout",
          "text": [
            "-0.361077688474964\n"
          ]
        }
      ]
    },
    {
      "cell_type": "markdown",
      "source": [
        "입수의 이상치를 모두 합한 값을 계산하라\n",
        "(이상치 : 3사분위수 + (IQR * 1.5배))"
      ],
      "metadata": {
        "id": "Pdjzcqrobo_A"
      }
    },
    {
      "cell_type": "code",
      "source": [
        "# IQR : (25% ~ 75%)\n",
        "# print(df1['입수'].describe()) # IQR : 6\n",
        "# print(6 * 1.5) # 9\n",
        "\n",
        "cond1 = (df1['입수']>12+9)\n",
        "df_out = df1.loc[cond1]\n",
        "# print(df_out.shape) # 2102\n",
        "\n",
        "print(df_out['입수'].sum()) # 56795"
      ],
      "metadata": {
        "colab": {
          "base_uri": "https://localhost:8080/"
        },
        "id": "YkKff9BKZa-Y",
        "outputId": "421c0811-e4c0-4fd3-cd01-462aba8ec7dd"
      },
      "execution_count": 86,
      "outputs": [
        {
          "output_type": "stream",
          "name": "stdout",
          "text": [
            "56795\n"
          ]
        }
      ]
    },
    {
      "cell_type": "markdown",
      "source": [
        "출고수량의 이상치를 모두 합한 값을 구하시오 (이상치 : 표준편차 3배)"
      ],
      "metadata": {
        "id": "hCveWIWydOKi"
      }
    },
    {
      "cell_type": "code",
      "source": [
        "# print(df1['출고수량'].describe()) # std : 19.469565\n",
        "# print(df1['출고수량'].std()*3) # 58.4086951362902\n",
        "\n",
        "cond1 = (df1['출고수량']>=(df1['출고수량'].std()*3))\n",
        "df1_out = df1.loc[cond1]\n",
        "\n",
        "# print(df1_out.shape) # 932\n",
        "\n",
        "print(df1_out['출고수량'].sum()) # 92892.01"
      ],
      "metadata": {
        "colab": {
          "base_uri": "https://localhost:8080/"
        },
        "id": "wcsXLaWsb8eL",
        "outputId": "95bbb6cc-3105-4132-8901-574c28099c18"
      },
      "execution_count": 91,
      "outputs": [
        {
          "output_type": "stream",
          "name": "stdout",
          "text": [
            "92892.0111111111\n"
          ]
        }
      ]
    },
    {
      "cell_type": "markdown",
      "source": [
        "# 2 유형"
      ],
      "metadata": {
        "id": "xVDa601_e-_h"
      }
    },
    {
      "cell_type": "markdown",
      "source": [
        "재고수량이 500개 이상인 값을 1 / 미만을 0으로 변환하여 Target column을 생성한 뒤, 해당 target column에 대한 분류모델을 생성하고 평가하시오"
      ],
      "metadata": {
        "id": "TdGCF_OcfQ9V"
      }
    },
    {
      "cell_type": "code",
      "source": [
        "cond1  = (df1['재고수량']>=500)\n",
        "\n",
        "df1.loc[cond1, 'Target'] = 1\n",
        "df1.loc[~cond1, 'Target'] = 0\n",
        "\n",
        "# print(df1['Target'].value_counts())"
      ],
      "metadata": {
        "colab": {
          "base_uri": "https://localhost:8080/"
        },
        "id": "YKK47bMHdbl6",
        "outputId": "2779f44c-8708-4919-8aaf-85a6bd3c8301"
      },
      "execution_count": 92,
      "outputs": [
        {
          "output_type": "stream",
          "name": "stdout",
          "text": [
            "0.0    32586\n",
            "1.0     4247\n",
            "Name: Target, dtype: int64\n"
          ]
        }
      ]
    },
    {
      "cell_type": "code",
      "source": [
        "# x / y 분할\n",
        "# x 범주형 데이터 더미화 \n",
        "# 학습/검증 데이터 분할\n",
        "# 파이프라인 구축 (특성 공학 / 결측치 처리 + 분류 학습)\n",
        "# 교차검증 + hyper parmeter 튜닝\n",
        "# 평가\n",
        "\n",
        "# print(df1.columns)\n",
        "\n",
        "# x / y 분할\n",
        "y = df1['Target']\n",
        "x = df1.drop(columns=['Target', '날짜', 'SKU ID', 'SKU 명', '바코드',\n",
        "                      '자재번호', '자재명', '재고수량', '입고수량(clean)'])\n",
        "\n",
        "# x 범주형 데이터 더미화 \n",
        "x_dummy = pd.get_dummies(x)"
      ],
      "metadata": {
        "id": "Lncc7xJ-jAug"
      },
      "execution_count": 95,
      "outputs": []
    },
    {
      "cell_type": "code",
      "source": [
        "from sklearn.model_selection import train_test_split\n",
        "from sklearn.pipeline import Pipeline\n",
        "from sklearn.impute import KNNImputer\n",
        "from sklearn.ensemble import RandomForestClassifier\n",
        "from sklearn.model_selection import GridSearchCV\n",
        "from sklearn.metrics import classification_report"
      ],
      "metadata": {
        "id": "EPS-JqmPj5p_"
      },
      "execution_count": 96,
      "outputs": []
    },
    {
      "cell_type": "code",
      "source": [
        "x_train, x_test, y_train, y_test = train_test_split(x_dummy, y, \n",
        "                                                    test_size=0.3,\n",
        "                                                    random_state=1234)\n",
        "\n",
        "print(x_train.shape)\n",
        "print(x_test.shape)\n",
        "print(y_train.shape)\n",
        "print(y_test.shape)"
      ],
      "metadata": {
        "colab": {
          "base_uri": "https://localhost:8080/"
        },
        "id": "-cbCMfMhk6Me",
        "outputId": "98ec9d0a-0c59-4caf-fdb9-bfac86b3f847"
      },
      "execution_count": 97,
      "outputs": [
        {
          "output_type": "stream",
          "name": "stdout",
          "text": [
            "(25783, 16)\n",
            "(11050, 16)\n",
            "(25783,)\n",
            "(11050,)\n"
          ]
        }
      ]
    },
    {
      "cell_type": "code",
      "source": [
        "pipe_list = [('impute', KNNImputer()),\n",
        "             ('model', RandomForestClassifier())]\n",
        "\n",
        "pipe_model = Pipeline(pipe_list)\n",
        "\n",
        "# print(pipe_model)"
      ],
      "metadata": {
        "colab": {
          "base_uri": "https://localhost:8080/"
        },
        "id": "OkebsmYfmZ-1",
        "outputId": "24f59321-706f-48dd-f041-7dc65a4c51cd"
      },
      "execution_count": 98,
      "outputs": [
        {
          "output_type": "stream",
          "name": "stdout",
          "text": [
            "Pipeline(steps=[('impute', KNNImputer()), ('model', RandomForestClassifier())])\n"
          ]
        }
      ]
    },
    {
      "cell_type": "code",
      "source": [
        "hyper_param = {\n",
        "               'model__min_samples_leaf':range(5, 10),\n",
        "               'model__class_weight':[None, 'balanced'],\n",
        "               'model__n_estimators':[50, 100, 150],\n",
        "              }\n",
        "\n",
        "grid_model = GridSearchCV(pipe_model,\n",
        "                          param_grid=hyper_param,\n",
        "                          cv=3, n_jobs=-1, scoring='f1')\n",
        "\n",
        "grid_model.fit(x_train, y_train)"
      ],
      "metadata": {
        "colab": {
          "base_uri": "https://localhost:8080/"
        },
        "id": "4IaZSsgWnT_q",
        "outputId": "4fbcd9e8-ab65-491c-e8d1-331f3a6839a7"
      },
      "execution_count": 108,
      "outputs": [
        {
          "output_type": "execute_result",
          "data": {
            "text/plain": [
              "GridSearchCV(cv=3,\n",
              "             estimator=Pipeline(steps=[('impute', KNNImputer()),\n",
              "                                       ('model', RandomForestClassifier())]),\n",
              "             n_jobs=-1,\n",
              "             param_grid={'model__class_weight': [None, 'balanced'],\n",
              "                         'model__min_samples_leaf': range(5, 10),\n",
              "                         'model__n_estimators': [50, 100, 150]},\n",
              "             scoring='f1')"
            ]
          },
          "metadata": {},
          "execution_count": 108
        }
      ]
    },
    {
      "cell_type": "code",
      "source": [
        "best_model = grid_model.best_estimator_\n",
        "print(best_model)"
      ],
      "metadata": {
        "colab": {
          "base_uri": "https://localhost:8080/"
        },
        "id": "kYkL-2Z8o-H0",
        "outputId": "ba2a4798-fcc4-4f8b-e9f2-214fd90ae96f"
      },
      "execution_count": 109,
      "outputs": [
        {
          "output_type": "stream",
          "name": "stdout",
          "text": [
            "Pipeline(steps=[('impute', KNNImputer()),\n",
            "                ('model',\n",
            "                 RandomForestClassifier(min_samples_leaf=5, n_estimators=150))])\n"
          ]
        }
      ]
    },
    {
      "cell_type": "code",
      "source": [
        "y_train_pred = best_model.predict(x_train)\n",
        "y_test_pred = best_model.predict(x_test)\n",
        "\n",
        "print(y_train_pred.shape)\n",
        "print(y_test_pred.shape)"
      ],
      "metadata": {
        "colab": {
          "base_uri": "https://localhost:8080/"
        },
        "id": "f0NAA67EqTzJ",
        "outputId": "c6805c5c-8ea5-4cec-a367-41f86cb05a5d"
      },
      "execution_count": 110,
      "outputs": [
        {
          "output_type": "stream",
          "name": "stdout",
          "text": [
            "(25783,)\n",
            "(11050,)\n"
          ]
        }
      ]
    },
    {
      "cell_type": "code",
      "source": [
        "print(classification_report(y_train, y_train_pred))\n",
        "print(classification_report(y_test, y_test_pred))"
      ],
      "metadata": {
        "colab": {
          "base_uri": "https://localhost:8080/"
        },
        "id": "s_M2dfcCrjWv",
        "outputId": "a7ee5293-eed4-41a9-f889-49b98d439766"
      },
      "execution_count": 111,
      "outputs": [
        {
          "output_type": "stream",
          "name": "stdout",
          "text": [
            "              precision    recall  f1-score   support\n",
            "\n",
            "         0.0       1.00      1.00      1.00     22804\n",
            "         1.0       1.00      0.97      0.98      2979\n",
            "\n",
            "    accuracy                           1.00     25783\n",
            "   macro avg       1.00      0.99      0.99     25783\n",
            "weighted avg       1.00      1.00      1.00     25783\n",
            "\n",
            "              precision    recall  f1-score   support\n",
            "\n",
            "         0.0       0.99      1.00      0.99      9782\n",
            "         1.0       0.99      0.94      0.96      1268\n",
            "\n",
            "    accuracy                           0.99     11050\n",
            "   macro avg       0.99      0.97      0.98     11050\n",
            "weighted avg       0.99      0.99      0.99     11050\n",
            "\n"
          ]
        }
      ]
    },
    {
      "cell_type": "code",
      "source": [
        "result = pd.DataFrame(y_test_pred)\n",
        "result.to_csv('202206016.csv')"
      ],
      "metadata": {
        "id": "pS0DDIHxrusx"
      },
      "execution_count": 112,
      "outputs": []
    }
  ]
}